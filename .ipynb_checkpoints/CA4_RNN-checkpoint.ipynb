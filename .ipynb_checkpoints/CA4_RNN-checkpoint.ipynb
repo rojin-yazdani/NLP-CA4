{
 "cells": [
  {
   "cell_type": "markdown",
   "metadata": {},
   "source": [
    "<div style=\"direction:rtl\">\n",
    "    <font style=\"font-family:'Courier New';font-weight:bold;color:Black\" size=\"5\">\n",
    "پروژه CA4 : استفاده از روش RNN برای POS Tagging\n",
    "    </font>\n",
    "</div>"
   ]
  },
  {
   "cell_type": "code",
   "execution_count": 36,
   "metadata": {},
   "outputs": [],
   "source": [
    "import warnings; warnings.simplefilter('ignore')"
   ]
  },
  {
   "cell_type": "code",
   "execution_count": 37,
   "metadata": {},
   "outputs": [],
   "source": [
    "import os\n",
    "os.environ['CUDA_VISIBLE_DEVICES'] = '-1'\n",
    "#os.environ[\"CUDA_VISIBLE_DEVICES\"]=\"0\"  # or if you want more than 1 GPU set it as \"0\", \"1\""
   ]
  },
  {
   "cell_type": "code",
   "execution_count": 38,
   "metadata": {},
   "outputs": [],
   "source": [
    "import xlrd \n",
    "import numpy as np\n",
    "from tensorflow.keras.preprocessing.sequence import pad_sequences\n",
    "    from tensorflow.keras.models import Sequential\n",
    "from tensorflow.keras.layers import Dense, LSTM, InputLayer, Bidirectional, TimeDistributed, Embedding, Activation\n",
    "from tensorflow.keras.optimizers import Adam\n",
    "from tensorflow.keras.callbacks import ModelCheckpoint"
   ]
  },
  {
   "cell_type": "markdown",
   "metadata": {},
   "source": [
    "<div style=\"direction:rtl\">\n",
    "<font style=\"font-family:verdana\" size=\"3\" color=\"Black\">    \n",
    "در بخش اول پس از خواندن فایل Rnn_train.xlsx، متدی به نام sents_tags_tokenize  نوشته شده که اطلاعات دادگان آموزشی را خوانده و چهار لیست برمی گرداند. یک لیست برای sequence های جملات و یک لیست حاوی sequence های تگهای صحیح متناظر و همچنین لیست کلیه کلمات و لیست کلیه تگها را بر می گرداند. همچنین در این متد تگ _PAD_  به ابتدا و انتهای هر جمله در لیستهای خروجی اضافه شده است.\n",
    "</font>\n",
    "</div>"
   ]
  },
  {
   "cell_type": "code",
   "execution_count": 39,
   "metadata": {},
   "outputs": [],
   "source": [
    "train_wb = xlrd.open_workbook('data/Rnn_train.xlsx') \n",
    "train_sheet = train_wb.sheet_by_index(0) "
   ]
  },
  {
   "cell_type": "code",
   "execution_count": 40,
   "metadata": {},
   "outputs": [],
   "source": [
    "def sents_tags_tokenize(data_sheet, padded, pad_symbol):\n",
    "    sents = []\n",
    "    sents_tags = []\n",
    "\n",
    "    all_words = []\n",
    "    all_tags = []\n",
    "    \n",
    "    curr_s = ''\n",
    "    curr_sent=[]\n",
    "    curr_sent_tags=[]\n",
    "    for i in range(data_sheet.nrows):\n",
    "    #for i in range(500):    \n",
    "        row = data_sheet.row_values(i)\n",
    "        s,w,t = row[0], row[1], row[2]\n",
    "        if (curr_s == ''):\n",
    "            curr_s = s \n",
    "            if padded == True:\n",
    "                curr_sent.append(pad_symbol)\n",
    "                curr_sent_tags.append(pad_symbol)\n",
    "                \n",
    "        elif s != '':\n",
    "            curr_s = s\n",
    "            if padded == True:\n",
    "                curr_sent.append(pad_symbol)\n",
    "                curr_sent_tags.append(pad_symbol)\n",
    "            sents.append(curr_sent)\n",
    "            sents_tags.append(curr_sent_tags)\n",
    "            \n",
    "            curr_sent=[]\n",
    "            curr_sent_tags=[]\n",
    "            if padded == True:\n",
    "                curr_sent.append(pad_symbol)\n",
    "                curr_sent_tags.append(pad_symbol)\n",
    "\n",
    "        curr_sent.append(str(w))\n",
    "        curr_sent_tags.append(t)\n",
    "        \n",
    "        all_words.append(str(w).lower())\n",
    "        all_tags.append(t)\n",
    "\n",
    "    if  len(curr_sent) > 0:\n",
    "        if padded == True:\n",
    "            curr_sent.append(pad_symbol)\n",
    "            curr_sent_tags.append(pad_symbol)\n",
    "        \n",
    "        sents.append(curr_sent)\n",
    "        sents_tags.append(curr_sent_tags)\n",
    "        \n",
    "        all_words.append(str(w).lower())\n",
    "        all_tags.append(t)\n",
    "\n",
    "    all_words.append(pad_symbol)\n",
    "    all_words.append('_OOV_')\n",
    "    all_tags.append(pad_symbol)    \n",
    "    return sents, sents_tags, all_words, all_tags"
   ]
  },
  {
   "cell_type": "code",
   "execution_count": 41,
   "metadata": {},
   "outputs": [],
   "source": [
    "sents, sents_tags, all_words, all_tags = sents_tags_tokenize(train_sheet, padded=True, pad_symbol='_PAD_')"
   ]
  },
  {
   "cell_type": "code",
   "execution_count": 42,
   "metadata": {},
   "outputs": [
    {
     "name": "stdout",
     "output_type": "stream",
     "text": [
      "len of sents: 20001 \n",
      "len of sents_tags: 20001\n",
      "\n",
      "len of all_words: 437960 \n",
      "len of all_tags: 437959\n",
      "--------------------------\n",
      "sample sentence :  ['_PAD_', 'Thousands', 'of', 'demonstrators', 'have', 'marched', 'through', 'London', 'to', 'protest', 'the', 'war', 'in', 'Iraq', 'and', 'demand', 'the', 'withdrawal', 'of', 'British', 'troops', 'from', 'that', 'country', '.', '_PAD_']\n",
      "sample sentence tags :  ['_PAD_', 'NNS', 'IN', 'NNS', 'VBP', 'VBN', 'IN', 'NNP', 'TO', 'VB', 'DT', 'NN', 'IN', 'NNP', 'CC', 'VB', 'DT', 'NN', 'IN', 'JJ', 'NNS', 'IN', 'DT', 'NN', '.', '_PAD_']\n"
     ]
    }
   ],
   "source": [
    "print(\"len of sents:\",len(sents),\"\\nlen of sents_tags:\",len(sents_tags))\n",
    "print(\"\\nlen of all_words:\",len(all_words),\"\\nlen of all_tags:\", len(all_tags))\n",
    "print(\"--------------------------\")\n",
    "print(\"sample sentence : \", sents[1])\n",
    "print(\"sample sentence tags : \", sents_tags[1])"
   ]
  },
  {
   "cell_type": "markdown",
   "metadata": {},
   "source": [
    "<div style=\"direction:rtl\">\n",
    "<font style=\"font-family:verdana\" size=\"3\" color=\"Black\">    \n",
    "ماکزیمم طول جملات در دادگان آموزشی را بدست می آوریم. این عدد برای تعیین طول sequence های ورودی شبکه RNN استفاده می شود\n",
    "</font>\n",
    "</div>"
   ]
  },
  {
   "cell_type": "code",
   "execution_count": 43,
   "metadata": {},
   "outputs": [
    {
     "name": "stdout",
     "output_type": "stream",
     "text": [
      "72\n"
     ]
    }
   ],
   "source": [
    "MAX_LENGTH = len(max(sents, key=len))\n",
    "print(MAX_LENGTH) "
   ]
  },
  {
   "cell_type": "markdown",
   "metadata": {},
   "source": [
    "<div style=\"direction:rtl\">\n",
    "<font style=\"font-family:verdana\" size=\"3\" color=\"Black\">    \n",
    "برای تخصیص یک عدد به هر کلمه از vocab و همچنین تخصیص یک عدد به هر تگ و سپس استفاده از این اعداد برای تولید بردارهای one-hot از کلاسهای LabelEncoder و OneHotEncodel از کتابخانه sklearn.preprocessing استفاده شد\n",
    "</font>\n",
    "</div>"
   ]
  },
  {
   "cell_type": "code",
   "execution_count": 44,
   "metadata": {},
   "outputs": [
    {
     "data": {
      "text/plain": [
       "array([20813, 19148, 13578, ...,    19,  1213,  1212], dtype=int64)"
      ]
     },
     "execution_count": 44,
     "metadata": {},
     "output_type": "execute_result"
    }
   ],
   "source": [
    "from sklearn.preprocessing import LabelEncoder\n",
    "from sklearn.preprocessing import OneHotEncoder\n",
    "\n",
    "words_encoder = LabelEncoder()\n",
    "words_encoder.fit_transform(all_words)"
   ]
  },
  {
   "cell_type": "code",
   "execution_count": 45,
   "metadata": {},
   "outputs": [
    {
     "data": {
      "text/plain": [
       "array([[0, 0, 0, ..., 0, 0, 0],\n",
       "       [0, 0, 0, ..., 0, 0, 0],\n",
       "       [0, 0, 0, ..., 0, 0, 0],\n",
       "       ...,\n",
       "       [0, 0, 1, ..., 0, 0, 0],\n",
       "       [0, 0, 1, ..., 0, 0, 0],\n",
       "       [0, 0, 0, ..., 0, 1, 0]], dtype=uint8)"
      ]
     },
     "execution_count": 45,
     "metadata": {},
     "output_type": "execute_result"
    }
   ],
   "source": [
    "tags_encoder = LabelEncoder()\n",
    "integer_encoded = tags_encoder.fit_transform(all_tags)\n",
    "\n",
    "integer_encoded = integer_encoded.reshape(len(integer_encoded), 1)\n",
    "\n",
    "tags_onehot_encoder = OneHotEncoder(sparse=False, dtype='uint8')\n",
    "tags_onehot_encoder.fit_transform(integer_encoded)"
   ]
  },
  {
   "cell_type": "markdown",
   "metadata": {},
   "source": [
    "<div style=\"direction:rtl\">\n",
    "<font style=\"font-family:verdana\" size=\"3\" color=\"Black\">    \n",
    "سایز vocab و سایز tagset بدست آورده شد و _OOV_ به مجموعه کلمات vocab افزوده شده است. لازم به ذکر است که _PAD_ به هر دو مجموعه اضافه شده است\n",
    "</font>\n",
    "</div>"
   ]
  },
  {
   "cell_type": "code",
   "execution_count": 46,
   "metadata": {},
   "outputs": [
    {
     "name": "stdout",
     "output_type": "stream",
     "text": [
      "vocab_size: 21126    tagset_size: 42\n"
     ]
    }
   ],
   "source": [
    "vocab_size = len(words_encoder.classes_)\n",
    "tagset_size = len(tags_encoder.classes_)\n",
    "print(\"vocab_size:\", vocab_size, \"   tagset_size:\", tagset_size)"
   ]
  },
  {
   "cell_type": "markdown",
   "metadata": {},
   "source": [
    "<div style=\"direction:rtl\">\n",
    "<font style=\"font-family:verdana\" size=\"3\" color=\"Black\">    \n",
    "برای صحت عملکرد انکدرها، برای تگ و کلمه نمونه ای تست شده است\n",
    "</font>\n",
    "</div>"
   ]
  },
  {
   "cell_type": "code",
   "execution_count": 47,
   "metadata": {},
   "outputs": [
    {
     "name": "stdout",
     "output_type": "stream",
     "text": [
      "one-hot vector of word \"DT\":  [0 0 0 0 0 0 0 1 0 0 0 0 0 0 0 0 0 0 0 0 0 0 0 0 0 0 0 0 0 0 0 0 0 0 0 0 0\n",
      " 0 0 0 0 0]\n",
      "invert of code 24:  ['RBR']\n"
     ]
    }
   ],
   "source": [
    "d = tags_onehot_encoder.transform([tags_encoder.transform([\"DT\"])])\n",
    "print(\"one-hot vector of word \\\"DT\\\": \", d[0])\n",
    "print(\"invert of code 24: \", tags_encoder.inverse_transform([24]))\n"
   ]
  },
  {
   "cell_type": "code",
   "execution_count": 48,
   "metadata": {},
   "outputs": [
    {
     "name": "stdout",
     "output_type": "stream",
     "text": [
      "invert of code 2004:  ['ambulance']\n",
      "transform of word \"the\" to code:  19083\n"
     ]
    }
   ],
   "source": [
    "print(\"invert of code 2004: \", words_encoder.inverse_transform([2004]))\n",
    "print(\"transform of word \\\"the\\\" to code: \", words_encoder.transform([\"the\"])[0])"
   ]
  },
  {
   "cell_type": "markdown",
   "metadata": {},
   "source": [
    "<div style=\"direction:rtl\">\n",
    "<font style=\"font-family:verdana\" size=\"3\" color=\"Black\">    \n",
    "متد زیر، لیست جملات را می گیرد که در این لیست، هر جمله خودش لیستی از کلمات می باشد. سپس هر کلمه از هر جمله را به ایندکس متناظرش انکد کرده و لیستی از جملات حاوی کلمات انکد شده را برمی گرداند.\n",
    "</font>\n",
    "</div>"
   ]
  },
  {
   "cell_type": "code",
   "execution_count": 49,
   "metadata": {},
   "outputs": [],
   "source": [
    "def encode_sents(sents):\n",
    "    X_sents = []\n",
    "    for s in sents:\n",
    "        X_currr_s = []\n",
    "        for w in s:\n",
    "            try:\n",
    "                X_currr_s.append(words_encoder.transform([w.lower()])[0])\n",
    "            except:\n",
    "                X_currr_s.append(words_encoder.transform(['_OOV_'])[0])\n",
    "        X_sents.append(X_currr_s)\n",
    "    return X_sents    "
   ]
  },
  {
   "cell_type": "markdown",
   "metadata": {},
   "source": [
    "<div style=\"direction:rtl\">\n",
    "<font style=\"font-family:verdana\" size=\"3\" color=\"Black\">    \n",
    "متد زیر، لیست تگهای جملات را می گیرد که در این لیست، هر جمله خودش لیستی از تگهای کلمات می باشد. سپس هر تگ از هر جمله را به ایندکس متناظرش انکد کرده و لیستی از جملات حاوی تگهای انکد شده را برمی گرداند.\n",
    "</font>\n",
    "</div>"
   ]
  },
  {
   "cell_type": "code",
   "execution_count": 50,
   "metadata": {},
   "outputs": [],
   "source": [
    "def encode_sents_tags(sents_tags):\n",
    "    Y_sents_tags = []\n",
    "    for s in sents_tags:\n",
    "        Y_currr_s = []\n",
    "        for w in s:\n",
    "            try:\n",
    "                Y_currr_s.append(tags_encoder.transform([w])[0])\n",
    "            except:\n",
    "                Y_currr_s.append(tags_encoder.transform(['_PAD_'])[0])\n",
    "        Y_sents_tags.append(Y_currr_s)\n",
    "    return Y_sents_tags    "
   ]
  },
  {
   "cell_type": "code",
   "execution_count": 187,
   "metadata": {},
   "outputs": [],
   "source": [
    "X_sents = encode_sents(sents)\n",
    "\n",
    "Y_sents_tags = encode_sents_tags(sents_tags)"
   ]
  },
  {
   "cell_type": "markdown",
   "metadata": {},
   "source": [
    "<div style=\"direction:rtl\">\n",
    "<font style=\"font-family:verdana\" size=\"3\" color=\"Black\">    \n",
    "نمونه خروجی دو متد بالا نشان داده شده است\n",
    "</font>\n",
    "</div>"
   ]
  },
  {
   "cell_type": "code",
   "execution_count": 188,
   "metadata": {},
   "outputs": [
    {
     "name": "stdout",
     "output_type": "stream",
     "text": [
      "20001 20001\n",
      "[1212, 19148, 13578, 5883, 9132, 11933, 19183, 11557, 19263, 15169, 19083, 20480, 9809, 10270, 2078, 5845, 19083, 20770, 13578, 3676, 19564, 8222, 19081, 5297, 19, 1212]\n",
      "[40, 18, 9, 18, 34, 33, 9, 16, 28, 30, 7, 15, 9, 16, 5, 30, 7, 15, 9, 10, 18, 9, 7, 15, 2, 40]\n"
     ]
    }
   ],
   "source": [
    "print(len(X_sents),len(Y_sents_tags))\n",
    "print(X_sents[1])\n",
    "print(Y_sents_tags[1])"
   ]
  },
  {
   "cell_type": "markdown",
   "metadata": {},
   "source": [
    "<div style=\"direction:rtl\">\n",
    "<font style=\"font-family:verdana\" size=\"3\" color=\"Black\">    \n",
    "با توجه به اینکه ورودی مدل RNN در کتابخانه keras باید دارای طول یکسان برای sequence های ورودی باشد لذا هر جمله به اندازه ماکزیمم طول جملات که 72 بود pad شده است\n",
    "</font>\n",
    "</div>"
   ]
  },
  {
   "cell_type": "markdown",
   "metadata": {},
   "source": [
    "<div style=\"direction:rtl\">\n",
    "<font style=\"font-family:verdana\" size=\"3\" color=\"Black\">    \n",
    "مقدار پیش فرض برای padding عدد 0 است اما چون در اینجا عدد 0 برای ایندکس تگ هم استفاده شده لذا از مقدار 50 برای  padding تگها استفاده شده است\n",
    "</font>\n",
    "</div>"
   ]
  },
  {
   "cell_type": "code",
   "execution_count": 202,
   "metadata": {},
   "outputs": [],
   "source": [
    "X_sents_padded = pad_sequences(X_sents, maxlen=MAX_LENGTH, padding='post')\n",
    "Y_sents_tags_padded = pad_sequences(Y_sents_tags, maxlen=MAX_LENGTH, padding='post', value=50)"
   ]
  },
  {
   "cell_type": "code",
   "execution_count": 203,
   "metadata": {},
   "outputs": [
    {
     "data": {
      "text/plain": [
       "array([40, 20, 40, 50, 50, 50, 50, 50, 50, 50, 50, 50, 50, 50, 50, 50, 50,\n",
       "       50, 50, 50, 50, 50, 50, 50, 50, 50, 50, 50, 50, 50, 50, 50, 50, 50,\n",
       "       50, 50, 50, 50, 50, 50, 50, 50, 50, 50, 50, 50, 50, 50, 50, 50, 50,\n",
       "       50, 50, 50, 50, 50, 50, 50, 50, 50, 50, 50, 50, 50, 50, 50, 50, 50,\n",
       "       50, 50, 50, 50])"
      ]
     },
     "execution_count": 203,
     "metadata": {},
     "output_type": "execute_result"
    }
   ],
   "source": [
    "Y_sents_tags_padded[0]"
   ]
  },
  {
   "cell_type": "markdown",
   "metadata": {},
   "source": [
    "<div style=\"direction:rtl\">\n",
    "<font style=\"font-family:verdana\" size=\"3\" color=\"Black\">    \n",
    "با توجه به اینکه برای خروجی شبکه RNN می خواهیم به ازای هر کلمه از sequence ورودی، یک تگ را مشخص کند لذا لازم است که مقدار Y برای هر X ورودی بردار on-hot مربوط به تگ متناظر آن باشد. متد زیر خروجی مورد انتظار از sequence های ورودی را گرفته و سپس به ازای هر ایندکس تگ خروجی، بردار one-hot آنرا جایگزین می کند.\n",
    "</font>\n",
    "</div>"
   ]
  },
  {
   "cell_type": "code",
   "execution_count": 51,
   "metadata": {},
   "outputs": [],
   "source": [
    "def encode_to_onehot(Y_sents_tags_padded):\n",
    "    Y_onehot_tags = []\n",
    "    for s_tags in Y_sents_tags_padded:\n",
    "        t_final=[]\n",
    "        for c in s_tags:\n",
    "            if c >= 0:\n",
    "                d = tags_onehot_encoder.transform(np.array([c]).reshape(-1,1))\n",
    "                t_final.append(d[0])\n",
    "            else:\n",
    "                t_final.append(np.zeros(tagset_size))\n",
    "        Y_onehot_tags.append(t_final)    \n",
    "    Y_onehot_tags = np.array(Y_onehot_tags)\n",
    "    return Y_onehot_tags"
   ]
  },
  {
   "cell_type": "code",
   "execution_count": 191,
   "metadata": {},
   "outputs": [],
   "source": [
    "Y_onehot_tags = encode_to_onehot(Y_sents_tags_padded)"
   ]
  },
  {
   "cell_type": "markdown",
   "metadata": {},
   "source": [
    "<div style=\"direction:rtl\">\n",
    "<font style=\"font-family:verdana\" size=\"3\" color=\"Black\">    \n",
    "همانطور که در زیر هم نشان داده شده است، ورودی شبکه RNN ماتریسی با ابعاد تعداد جملات ضرب در طول sequenceها که در اینجا 72 است می باشد. خروجی شبکه RNN هم ماتریسی با ابعاد تعداد جملات در طول sequence در تعداد تگها که در اینجا 42 است می باشد\n",
    "</font>\n",
    "</div>"
   ]
  },
  {
   "cell_type": "markdown",
   "metadata": {},
   "source": [
    "<div style=\"direction:rtl\">\n",
    "<font style=\"font-family:verdana\" size=\"3\" color=\"Black\">    \n",
    "در واقع هر یک از بردارهای 42 تایی خروجی از تابع softmax لایه آخر شبکه باید بدست آید.\n",
    "</font>\n",
    "</div>"
   ]
  },
  {
   "cell_type": "code",
   "execution_count": 198,
   "metadata": {},
   "outputs": [
    {
     "name": "stdout",
     "output_type": "stream",
     "text": [
      "input shape for model: (20001, 72)\n",
      "output shape of model: (20001, 72, 42)\n"
     ]
    }
   ],
   "source": [
    "print(\"input shape for model:\" , X_sents_padded.shape)\n",
    "print(\"output shape of model:\" , Y_onehot_tags.shape)"
   ]
  },
  {
   "cell_type": "markdown",
   "metadata": {},
   "source": [
    "<div style=\"direction:rtl\">\n",
    "<font style=\"font-family:verdana\" size=\"3\" color=\"Black\">    \n",
    "متد زیر، مدل شبکه مورد نظر را می سازد. ابعاد لایه ورودی همانطور که در بالا هم گفته شد، تعداد جملات در طول padded sequence هر جمله است. که در اینجا می شود 20001*72 \n",
    "</font>\n",
    "</div>"
   ]
  },
  {
   "cell_type": "markdown",
   "metadata": {},
   "source": [
    "<div style=\"direction:rtl\">\n",
    "<font style=\"font-family:verdana\" size=\"3\" color=\"Black\">    \n",
    "سپس از یک لایه Embedding استفاده شده است تا بردارهای ورودی در برداری 128 تایی embed شوند\n",
    "</font>\n",
    "</div>"
   ]
  },
  {
   "cell_type": "markdown",
   "metadata": {},
   "source": [
    "<div style=\"direction:rtl\">\n",
    "<font style=\"font-family:verdana\" size=\"3\" color=\"Black\">    \n",
    "سپس یک لایه Bi-LSTM و با توجه به داشتن خروجی در هر مرحله زمانی از لایه Dense TimeDistributed استفاده شده است\n",
    "</font>\n",
    "</div>"
   ]
  },
  {
   "cell_type": "markdown",
   "metadata": {},
   "source": [
    "<div style=\"direction:rtl\">\n",
    "<font style=\"font-family:verdana\" size=\"3\" color=\"Black\">    \n",
    "در انتها هم تابع softmax به عنوان activation function لایه آخر استفاده شده و categorical_crossentropy هم به عنوان تابع loss تعیین شده است زیرا مساله چندکلاسه است و به تعداد تگها، کلاس خروجی داریم.\n",
    "</font>\n",
    "</div>"
   ]
  },
  {
   "cell_type": "markdown",
   "metadata": {},
   "source": [
    "<div style=\"direction:rtl\">\n",
    "<font style=\"font-family:verdana\" size=\"3\" color=\"Black\">    \n",
    "نرخ یادگیری هم 0.01 درنظر کرفته شد</font>\n",
    "</div>"
   ]
  },
  {
   "cell_type": "code",
   "execution_count": 52,
   "metadata": {},
   "outputs": [],
   "source": [
    "\n",
    "def build_model(MAX_LENGTH, vocab_size, tagset_size):\n",
    "    model = Sequential()\n",
    "    model.add(InputLayer(input_shape=(MAX_LENGTH, )))\n",
    "    model.add(Embedding(vocab_size, 128,input_length=MAX_LENGTH))\n",
    "    model.add(Bidirectional(LSTM(256, return_sequences=True)))\n",
    "    #model.add(LSTM(128, return_sequences=True))\n",
    "    #model.add(LSTM(units=128))\n",
    "    model.add(TimeDistributed(Dense(tagset_size)))\n",
    "    model.add(Activation('softmax'))\n",
    "    model.compile(loss='categorical_crossentropy', optimizer=Adam(0.01), metrics=['accuracy'])\n",
    "    return model"
   ]
  },
  {
   "cell_type": "code",
   "execution_count": 53,
   "metadata": {},
   "outputs": [],
   "source": [
    "def train_model(model, model_filepath, pretrained_weights, epoch_num):\n",
    "    if (pretrained_weights == True):\n",
    "        model.load_weights(model_filepath)\n",
    "    #--------------------------------------\n",
    "    checkpointer = ModelCheckpoint(model_name, monitor='val_acc', verbose=1, save_best_only=True, mode='max')\n",
    "    history = model.fit(X_sents_padded, batch_size=32, y=Y_onehot_tags, verbose=1, validation_split=0.2, \n",
    "                        shuffle=True, epochs=epoch_num, callbacks=[checkpointer])    \n",
    "    return history"
   ]
  },
  {
   "cell_type": "code",
   "execution_count": 200,
   "metadata": {},
   "outputs": [
    {
     "name": "stdout",
     "output_type": "stream",
     "text": [
      "MAX_LENGTH: 72\n",
      "vocab_size: 21126\n",
      "tagset_size: 42\n",
      "_________________________________________________________________\n",
      "Layer (type)                 Output Shape              Param #   \n",
      "=================================================================\n",
      "embedding_4 (Embedding)      (None, 72, 128)           2704128   \n",
      "_________________________________________________________________\n",
      "bidirectional_4 (Bidirection (None, 72, 512)           788480    \n",
      "_________________________________________________________________\n",
      "time_distributed_4 (TimeDist (None, 72, 42)            21546     \n",
      "_________________________________________________________________\n",
      "activation_4 (Activation)    (None, 72, 42)            0         \n",
      "=================================================================\n",
      "Total params: 3,514,154\n",
      "Trainable params: 3,514,154\n",
      "Non-trainable params: 0\n",
      "_________________________________________________________________\n"
     ]
    }
   ],
   "source": [
    "print(\"MAX_LENGTH:\", MAX_LENGTH)\n",
    "print(\"vocab_size:\", vocab_size)\n",
    "print(\"tagset_size:\", tagset_size)\n",
    "model = build_model(MAX_LENGTH, vocab_size, tagset_size)\n",
    "model.summary()"
   ]
  },
  {
   "cell_type": "markdown",
   "metadata": {},
   "source": [
    "<div style=\"direction:rtl\">\n",
    "<font style=\"font-family:verdana\" size=\"3\" color=\"Black\">    \n",
    "با توجه به اینکه امکان آموزش مدل روی GPU فراهم نبود، لذا فرایند آموزش آن بسیار به کندی انجام شده و امکان تکرار تستهای مختلف با پارامترهای متفاوت برای رسیدن به نتیجه بهتر مقدور نبود\n",
    "</font>\n",
    "</div>"
   ]
  },
  {
   "cell_type": "code",
   "execution_count": 31,
   "metadata": {},
   "outputs": [],
   "source": [
    "model_name=\"model_pos_tagger.hdf5\" \n",
    "history = train_model(model, model_filepath = model_name, pretrained_weights=True, epoch_num=20)"
   ]
  },
  {
   "cell_type": "code",
   "execution_count": 27,
   "metadata": {},
   "outputs": [
    {
     "data": {
      "image/png": "[encoded data removed]",
      "text/plain": [
       "<Figure size 432x288 with 1 Axes>"
      ]
     },
     "metadata": {
      "needs_background": "light"
     },
     "output_type": "display_data"
    }
   ],
   "source": [
    "import seaborn as sns\n",
    "import pandas as pd \n",
    "\n",
    "df_result = pd.DataFrame({'epochs':history.epoch, \n",
    "                          'accuracy': history.history['acc'], \n",
    "                          'validation_accuracy': history.history['val_acc']})\n",
    "\n",
    "g = sns.pointplot(x=\"epochs\", y=\"accuracy\", data=df_result, fit_reg=False)\n",
    "\n",
    "g = sns.pointplot(x=\"epochs\", y=\"validation_accuracy\", data=df_result, \n",
    "                  fit_reg=False, color='green')"
   ]
  },
  {
   "cell_type": "markdown",
   "metadata": {},
   "source": [
    "<div style=\"direction:rtl\">\n",
    "<font style=\"font-family:verdana\" size=\"3\" color=\"Black\">    \n",
    "بعد از آموزش مدل، از دادگان تست برای ارزیابی مدل استفاده شد.مشابه عملیاتی که برای داده های train اتجام شد تا قابل تغذیه به شبکه RNN شود، اینبار برای دادگان تست صورت گرفت.\n",
    "</font>\n",
    "</div>"
   ]
  },
  {
   "cell_type": "code",
   "execution_count": 56,
   "metadata": {},
   "outputs": [],
   "source": [
    "test_wb = xlrd.open_workbook('data/Rnn_test.xlsx') \n",
    "test_sheet = test_wb.sheet_by_index(0) "
   ]
  },
  {
   "cell_type": "code",
   "execution_count": 102,
   "metadata": {},
   "outputs": [],
   "source": [
    "test_sents, test_sents_tags, test_all_words, test_all_tags = sents_tags_tokenize(test_sheet, padded=True, pad_symbol='_PAD_')"
   ]
  },
  {
   "cell_type": "code",
   "execution_count": 103,
   "metadata": {},
   "outputs": [
    {
     "name": "stdout",
     "output_type": "stream",
     "text": [
      "len of test_sents: 5000 \n",
      "len of test_sents_tags: 5000\n",
      "\n",
      "len of test_all_words: 108827 \n",
      "len of test_all_tags: 108826\n",
      "--------------------------\n",
      "sample sentence :  ['_PAD_', 'There', 'is', 'a', 'potential', 'source', 'of', 'income', 'from', 'harvesting', 'finfish', 'and', 'krill', '.', '_PAD_']\n",
      "sample sentence tags :  ['_PAD_', 'EX', 'VBZ', 'DT', 'JJ', 'NN', 'IN', 'NN', 'IN', 'VBG', 'NN', 'CC', 'NN', '.', '_PAD_']\n"
     ]
    }
   ],
   "source": [
    "print(\"len of test_sents:\",len(test_sents),\"\\nlen of test_sents_tags:\",len(test_sents_tags))\n",
    "print(\"\\nlen of test_all_words:\",len(test_all_words),\"\\nlen of test_all_tags:\", len(test_all_tags))\n",
    "print(\"--------------------------\")\n",
    "print(\"sample sentence : \", test_sents[1])\n",
    "print(\"sample sentence tags : \", test_sents_tags[1])"
   ]
  },
  {
   "cell_type": "code",
   "execution_count": 104,
   "metadata": {},
   "outputs": [],
   "source": [
    "X_test_sents = encode_sents(test_sents)\n",
    "Y_test_sents_tags = encode_sents_tags(test_sents_tags)"
   ]
  },
  {
   "cell_type": "code",
   "execution_count": 105,
   "metadata": {},
   "outputs": [
    {
     "name": "stdout",
     "output_type": "stream",
     "text": [
      "5000 5000\n",
      "[1212, 19105, 10299, 1214, 14780, 17889, 13578, 9846, 8222, 9098, 1212, 2078, 1212, 19, 1212]\n",
      "[40, 8, 35, 7, 10, 15, 9, 15, 9, 32, 15, 5, 15, 2, 40]\n"
     ]
    }
   ],
   "source": [
    "print(len(X_test_sents),len(Y_test_sents_tags))\n",
    "print(X_test_sents[1])\n",
    "print(Y_test_sents_tags[1])"
   ]
  },
  {
   "cell_type": "code",
   "execution_count": 106,
   "metadata": {},
   "outputs": [],
   "source": [
    "X_test_sents_padded = pad_sequences(X_test_sents, maxlen=MAX_LENGTH, padding='post')\n",
    "Y_test_sents_tags_padded = pad_sequences(Y_test_sents_tags, maxlen=MAX_LENGTH, padding='post', value=0)"
   ]
  },
  {
   "cell_type": "code",
   "execution_count": 107,
   "metadata": {},
   "outputs": [
    {
     "data": {
      "text/plain": [
       "array([40,  8, 35,  7, 10, 15,  9, 15,  9, 32, 15,  5, 15,  2, 40,  0,  0,\n",
       "        0,  0,  0,  0,  0,  0,  0,  0,  0,  0,  0,  0,  0,  0,  0,  0,  0,\n",
       "        0,  0,  0,  0,  0,  0,  0,  0,  0,  0,  0,  0,  0,  0,  0,  0,  0,\n",
       "        0,  0,  0,  0,  0,  0,  0,  0,  0,  0,  0,  0,  0,  0,  0,  0,  0,\n",
       "        0,  0,  0,  0])"
      ]
     },
     "execution_count": 107,
     "metadata": {},
     "output_type": "execute_result"
    }
   ],
   "source": [
    "Y_test_sents_tags_padded[1]"
   ]
  },
  {
   "cell_type": "code",
   "execution_count": 108,
   "metadata": {},
   "outputs": [],
   "source": [
    "Y_test_onehot_tags = encode_to_onehot(Y_test_sents_tags_padded)"
   ]
  },
  {
   "cell_type": "code",
   "execution_count": 109,
   "metadata": {},
   "outputs": [
    {
     "name": "stdout",
     "output_type": "stream",
     "text": [
      "input shape for model: (5000, 72)\n",
      "output shape of model: (5000, 72, 42)\n"
     ]
    }
   ],
   "source": [
    "print(\"input shape for model:\" , X_test_sents_padded.shape)\n",
    "print(\"output shape of model:\" , Y_test_onehot_tags.shape)"
   ]
  },
  {
   "cell_type": "markdown",
   "metadata": {},
   "source": [
    "<div style=\"direction:rtl\">\n",
    "<font style=\"font-family:verdana\" size=\"3\" color=\"Black\">    \n",
    "برای تست 5000 جمله در اختیار داریم که آنها را بصورت sequnceهای با طول 72 که مدل را بر آن اساس ساخته ایم، تبدیل کرده و به شبکه می دهیم. هرچند که در جملات تست، جملاتی با طول بیش از 72 وجود دارد؛ در واقع آنها را truncate کرده ایم\n",
    "</font>\n",
    "</div>"
   ]
  },
  {
   "cell_type": "code",
   "execution_count": 110,
   "metadata": {},
   "outputs": [
    {
     "name": "stdout",
     "output_type": "stream",
     "text": [
      "5000/5000 [==============================] - 11s 2ms/step\n",
      "acc: 31.159999923706057\n"
     ]
    }
   ],
   "source": [
    "scores = model.evaluate(X_test_sents_padded, Y_test_onehot_tags)\n",
    "print(f\"{model.metrics_names[1]}: {scores[1] * 100}\")   "
   ]
  },
  {
   "cell_type": "markdown",
   "metadata": {},
   "source": [
    "<div style=\"direction:rtl\">\n",
    "<font style=\"font-family:verdana\" size=\"3\" color=\"Black\">    \n",
    "نتیجه ارزیابی مدل برای معیار accuracy برابر 0.31 می باشد.\n",
    "</font>\n",
    "</div>"
   ]
  },
  {
   "cell_type": "code",
   "execution_count": 111,
   "metadata": {},
   "outputs": [
    {
     "data": {
      "text/plain": [
       "[8.910435159301757, 0.31159999923706055]"
      ]
     },
     "execution_count": 111,
     "metadata": {},
     "output_type": "execute_result"
    }
   ],
   "source": [
    "scores"
   ]
  },
  {
   "cell_type": "markdown",
   "metadata": {},
   "source": [
    "<div style=\"direction:rtl\">\n",
    "<font style=\"font-family:verdana\" size=\"3\" color=\"Black\">    \n",
    " برای پیش بینی تگها برای داده های تست بصورت زیر عمل می کنیم و میتوان از خروجی تابع predict استفاده کرد.\n",
    "</font>\n",
    "</div>"
   ]
  },
  {
   "cell_type": "code",
   "execution_count": 112,
   "metadata": {},
   "outputs": [],
   "source": [
    "Y_test_pred = model.predict(X_test_sents_padded)\n",
    "Y_test_pred_class = model.predict_classes(X_test_sents_padded)"
   ]
  },
  {
   "cell_type": "code",
   "execution_count": 113,
   "metadata": {},
   "outputs": [
    {
     "name": "stdout",
     "output_type": "stream",
     "text": [
      "(5000, 72, 42)\n",
      "(5000, 72)\n"
     ]
    }
   ],
   "source": [
    "print(Y_test_pred.shape)\n",
    "print(Y_test_pred_class.shape)"
   ]
  },
  {
   "cell_type": "code",
   "execution_count": 114,
   "metadata": {},
   "outputs": [],
   "source": [
    "from sklearn.metrics import accuracy_score, f1_score, precision_score, recall_score, classification_report, confusion_matrix\n",
    "import seaborn as sns\n",
    "import pandas as pd\n",
    "import matplotlib.pyplot as plt"
   ]
  },
  {
   "cell_type": "markdown",
   "metadata": {},
   "source": [
    "<div style=\"direction:rtl\">\n",
    "<font style=\"font-family:verdana\" size=\"3\" color=\"Black\">    \n",
    "باید ماتریس خروجی شبکه را پردازش نموده و به ازای هر کلمه از هر جمله، ایندکس تگ خروجی را از خروجی تابع softmax بدست آورده و به تگ متناظرش برسیم.\n",
    "</font>\n",
    "</div>"
   ]
  },
  {
   "cell_type": "code",
   "execution_count": 115,
   "metadata": {},
   "outputs": [
    {
     "name": "stdout",
     "output_type": "stream",
     "text": [
      "(5000, 72)\n",
      "(5000, 72, 42)\n",
      "len of y_test: 118621\n",
      "len of y_pred: 118621\n",
      "\n",
      "sample y_test: [23, 10, 9, 7, 15, 35, 9, 15, 2, 40, 40, 21, 35, 33, 9, 32, 18, 9, 10, 15, 9, 7, 16, 15, 2, 40, 40, 23, 1, 18, 34, 18, 33, 9, 18, 9, 10, 16, 20, 16, 15, 1, 36, 35, 33, 9, 16, 17, 2, 40, 40, 10, 10, 16, 18, 34, 33, 7, 15, 15, 9, 16, 9, 7, 16, 3, 5, 31, 21, 14, 30, 11, 15, 9, 16, 5, 16, 2, 40, 40, 7, 15, 9, 18, 9, 33, 15, 16, 16, 35, 33, 33, 10, 2, 40, 40, 7, 10, 15, 35]\n",
      "\n",
      "nsample y_pred: [23, 10, 9, 7, 15, 35, 9, 15, 2, 40, 40, 21, 35, 33, 9, 32, 18, 9, 10, 15, 9, 7, 16, 15, 2, 40, 40, 23, 1, 18, 34, 18, 31, 9, 18, 9, 10, 16, 20, 16, 15, 1, 36, 35, 33, 9, 16, 17, 2, 40, 40, 10, 10, 16, 18, 34, 33, 7, 15, 15, 9, 16, 9, 7, 16, 3, 5, 31, 21, 14, 30, 11, 32, 9, 16, 5, 16, 2, 40, 40, 7, 15, 9, 18, 9, 33, 40, 16, 40, 35, 33, 33, 10, 2, 40, 40, 7, 40, 15, 18]\n"
     ]
    }
   ],
   "source": [
    "print(Y_test_sents_tags_padded.shape)\n",
    "print(Y_test_pred.shape)\n",
    "\n",
    "y_test=[]\n",
    "y_pred=[]\n",
    "for i in range(len(Y_test_sents_tags_padded)):\n",
    "    for j in range(len(Y_test_sents_tags_padded[i])):\n",
    "        if Y_test_sents_tags_padded[i][j] != 0:\n",
    "            y_test.append(Y_test_sents_tags_padded[i][j])\n",
    "            #y_pred.append(np.argmax(Y_test_pred[i][j]))\n",
    "            y_pred.append(Y_test_pred_class[i][j])\n",
    "\n",
    "print(\"len of y_test:\", len(y_test))\n",
    "print(\"len of y_pred:\", len(y_pred))\n",
    "print(\"\\nsample y_test:\", y_test[20000:20100])\n",
    "print(\"\\nnsample y_pred:\", y_pred[20000:20100])"
   ]
  },
  {
   "cell_type": "code",
   "execution_count": 120,
   "metadata": {},
   "outputs": [
    {
     "name": "stdout",
     "output_type": "stream",
     "text": [
      "precision :  0.945667293312314\n",
      "recall :  0.945667293312314\n",
      "f1_score :  0.945667293312314\n",
      "accuracy_score :  0.945667293312314\n"
     ]
    }
   ],
   "source": [
    "print(\"precision : \", precision_score(y_test, y_pred, average=\"micro\"))\n",
    "print(\"recall : \", recall_score(y_test, y_pred, average=\"micro\")) \n",
    "print(\"f1_score : \", f1_score(y_test, y_pred, average=\"micro\"))\n",
    "print(\"accuracy_score : \", accuracy_score(y_test, y_pred))\n",
    "#print(confusion_matrix(y_test, y_pred))"
   ]
  },
  {
   "cell_type": "code",
   "execution_count": 116,
   "metadata": {},
   "outputs": [
    {
     "name": "stdout",
     "output_type": "stream",
     "text": [
      "(5000, 72, 42)\n",
      "(5000, 72)\n"
     ]
    }
   ],
   "source": [
    "print(Y_test_pred.shape)\n",
    "print(Y_test_sents_tags_padded.shape)\n",
    "\n",
    "pad_tag_ind = tags_encoder.transform(['_PAD_'])[0]\n",
    "\n",
    "test_pred_tags=[]\n",
    "for i in range(len(test_sents)):\n",
    "    for j in range(min(len(test_sents_tags[i]),MAX_LENGTH)):        \n",
    "        if Y_test_sents_tags_padded[i][j] != pad_tag_ind:\n",
    "            tag_test = tags_encoder.inverse_transform([Y_test_sents_tags_padded[i][j]])[0]\n",
    "            #if tag_test != '_PAD_':\n",
    "            pair_tags=[]\n",
    "            pair_tags.append(tag_test)\n",
    "            pair_tags.append(tags_encoder.inverse_transform([np.argmax(Y_test_pred[i][j])])[0])\n",
    "            test_pred_tags.append(pair_tags)                "
   ]
  },
  {
   "cell_type": "code",
   "execution_count": 119,
   "metadata": {},
   "outputs": [],
   "source": [
    "test_rnn_file = open('test_rnn_file.csv', \"w\")    \n",
    "np.savetxt(test_rnn_file, test_pred_tags, fmt=\"%s\", delimiter=\",\")\n",
    "test_rnn_file.close()"
   ]
  },
  {
   "cell_type": "code",
   "execution_count": null,
   "metadata": {},
   "outputs": [],
   "source": []
  }
 ],
 "metadata": {
  "kernelspec": {
   "display_name": "Python 3 (ipykernel)",
   "language": "python",
   "name": "python3"
  },
  "language_info": {
   "codemirror_mode": {
    "name": "ipython",
    "version": 3
   },
   "file_extension": ".py",
   "mimetype": "text/x-python",
   "name": "python",
   "nbconvert_exporter": "python",
   "pygments_lexer": "ipython3",
   "version": "3.9.13"
  }
 },
 "nbformat": 4,
 "nbformat_minor": 4
}
